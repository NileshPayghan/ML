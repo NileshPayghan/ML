{
  "nbformat": 4,
  "nbformat_minor": 0,
  "metadata": {
    "colab": {
      "provenance": [],
      "mount_file_id": "11Pr-4W3Dr3-yKt0PT_sO3Zf2seZ-wg5A",
      "authorship_tag": "ABX9TyMVg5mwnNoMoRKNxZvZWIHE",
      "include_colab_link": true
    },
    "kernelspec": {
      "name": "python3",
      "display_name": "Python 3"
    },
    "language_info": {
      "name": "python"
    }
  },
  "cells": [
    {
      "cell_type": "markdown",
      "metadata": {
        "id": "view-in-github",
        "colab_type": "text"
      },
      "source": [
        "<a href=\"https://colab.research.google.com/github/NileshPayghan/ML/blob/main/Train_Mask_RCNN_for_object_detection_in_In_60_Lines_of_Code.ipynb\" target=\"_parent\"><img src=\"https://colab.research.google.com/assets/colab-badge.svg\" alt=\"Open In Colab\"/></a>"
      ]
    },
    {
      "cell_type": "code",
      "execution_count": 1,
      "metadata": {
        "id": "0igux_WbnNne"
      },
      "outputs": [],
      "source": [
        "import random\n",
        "from torchvision.models.detection.faster_rcnn import FastRCNNPredictor\n",
        "import numpy as np\n",
        "import torch.utils.data\n",
        "import cv2\n",
        "import torchvision.models.segmentation\n",
        "import torch\n",
        "import os\n",
        "batchSize=2\n",
        "imageSize=[600,600]\n",
        "device = torch.device('cuda') if torch.cuda.is_available() else torch.device('cpu') "
      ]
    },
    {
      "cell_type": "code",
      "source": [
        "from google.colab import drive\n",
        "drive.mount('/content/drive')"
      ],
      "metadata": {
        "colab": {
          "base_uri": "https://localhost:8080/"
        },
        "id": "oLFw0a30n26D",
        "outputId": "741234ef-ac59-4659-c54e-3f69bdff4a75"
      },
      "execution_count": 2,
      "outputs": [
        {
          "output_type": "stream",
          "name": "stdout",
          "text": [
            "Drive already mounted at /content/drive; to attempt to forcibly remount, call drive.mount(\"/content/drive\", force_remount=True).\n"
          ]
        }
      ]
    }
  ]
}
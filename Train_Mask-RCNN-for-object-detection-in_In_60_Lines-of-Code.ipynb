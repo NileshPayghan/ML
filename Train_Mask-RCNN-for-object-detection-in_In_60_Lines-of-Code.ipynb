{
  "nbformat": 4,
  "nbformat_minor": 0,
  "metadata": {
    "colab": {
      "provenance": [],
      "authorship_tag": "ABX9TyNn0XZF/sZG5SLNGFhANWIc",
      "include_colab_link": true
    },
    "kernelspec": {
      "name": "python3",
      "display_name": "Python 3"
    },
    "language_info": {
      "name": "python"
    }
  },
  "cells": [
    {
      "cell_type": "markdown",
      "metadata": {
        "id": "view-in-github",
        "colab_type": "text"
      },
      "source": [
        "<a href=\"https://colab.research.google.com/github/NileshPayghan/ML/blob/main/Train_Mask-RCNN-for-object-detection-in_In_60_Lines-of-Code.ipynb\" target=\"_parent\"><img src=\"https://colab.research.google.com/assets/colab-badge.svg\" alt=\"Open In Colab\"/></a>"
      ]
    },
    {
      "cell_type": "code",
      "execution_count": 1,
      "metadata": {
        "id": "R3OwFTN-mSIQ"
      },
      "outputs": [],
      "source": [
        "import random\n",
        "from torchvision.models.detection.faster_rcnn import FastRCNNPredictor\n",
        "import numpy as np\n",
        "import torch.utils.data\n",
        "import cv2\n",
        "import torchvision.models.segmentation\n",
        "import torch\n",
        "import os\n",
        "batchSize=2\n",
        "imageSize=[600,600]\n",
        "device = torch.device('cuda') if torch.cuda.is_available() else torch.device('cpu')   # train on the GPU or on the CPU, if a GPU is not available"
      ]
    }
  ]
}
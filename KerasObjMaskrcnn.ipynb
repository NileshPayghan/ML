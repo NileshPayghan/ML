{
  "nbformat": 4,
  "nbformat_minor": 0,
  "metadata": {
    "colab": {
      "provenance": [],
      "include_colab_link": true
    },
    "kernelspec": {
      "name": "python3",
      "display_name": "Python 3"
    },
    "language_info": {
      "name": "python"
    }
  },
  "cells": [
    {
      "cell_type": "markdown",
      "metadata": {
        "id": "view-in-github",
        "colab_type": "text"
      },
      "source": [
        "<a href=\"https://colab.research.google.com/github/NileshPayghan/ML/blob/main/KerasObjMaskrcnn.ipynb\" target=\"_parent\"><img src=\"https://colab.research.google.com/assets/colab-badge.svg\" alt=\"Open In Colab\"/></a>"
      ]
    },
    {
      "cell_type": "code",
      "execution_count": null,
      "metadata": {
        "colab": {
          "base_uri": "https://localhost:8080/"
        },
        "id": "r86pAgWrDD1Z",
        "outputId": "64cc1ad5-ff37-4dcd-b71a-3147be6a4201"
      },
      "outputs": [
        {
          "output_type": "stream",
          "name": "stderr",
          "text": [
            "Downloading...\n",
            "From: https://drive.google.com/uc?id=1SWVDHmcQjGykZn1mPAf7pwY7BTUCYK96\n",
            "To: /content/Mask Rcnn.zip\n",
            "100%|██████████| 480M/480M [00:02<00:00, 204MB/s]\n"
          ]
        },
        {
          "output_type": "stream",
          "name": "stdout",
          "text": [
            "Archive:  ./Mask Rcnn.zip\n",
            "   creating: Final Mask RCNN/\n",
            "   creating: Final Mask RCNN/.ipynb_checkpoints/\n",
            "  inflating: Final Mask RCNN/.ipynb_checkpoints/custom-checkpoint.ipynb  \n",
            "  inflating: Final Mask RCNN/custom-mask-rcnn-tf2.ipynb  \n",
            "   creating: Final Mask RCNN/dataset/\n",
            "   creating: Final Mask RCNN/dataset/train/\n",
            "  inflating: Final Mask RCNN/dataset/train/img_000014.jpg  \n",
            "  inflating: Final Mask RCNN/dataset/train/img_000015.jpg  \n",
            "  inflating: Final Mask RCNN/dataset/train/img_000016.jpg  \n",
            "  inflating: Final Mask RCNN/dataset/train/img_000017.jpg  \n",
            "  inflating: Final Mask RCNN/dataset/train/img_000018.jpg  \n",
            "  inflating: Final Mask RCNN/dataset/train/img_000019.jpg  \n",
            "  inflating: Final Mask RCNN/dataset/train/img_000020.jpg  \n",
            "  inflating: Final Mask RCNN/dataset/train/img_000021.jpg  \n",
            "  inflating: Final Mask RCNN/dataset/train/img_000022.jpg  \n",
            "  inflating: Final Mask RCNN/dataset/train/train_json.json  \n",
            "   creating: Final Mask RCNN/dataset/val/\n",
            "  inflating: Final Mask RCNN/dataset/val/img_000023.jpg  \n",
            "  inflating: Final Mask RCNN/dataset/val/img_000024.jpg  \n",
            "  inflating: Final Mask RCNN/dataset/val/img_000025.jpg  \n",
            "  inflating: Final Mask RCNN/dataset/val/val_json.json  \n",
            "   creating: Final Mask RCNN/logs/\n",
            "  inflating: Final Mask RCNN/mask_rcnn_coco.h5  \n",
            "  inflating: Final Mask RCNN/mask_rcnn_object_0020.h5  \n",
            "   creating: Final Mask RCNN/mrcnn/\n",
            "  inflating: Final Mask RCNN/mrcnn/config.py  \n",
            "  inflating: Final Mask RCNN/mrcnn/model.py  \n",
            "  inflating: Final Mask RCNN/mrcnn/parallel_model.py  \n",
            "  inflating: Final Mask RCNN/mrcnn/utils.py  \n",
            "  inflating: Final Mask RCNN/mrcnn/visualize.py  \n",
            "  inflating: Final Mask RCNN/mrcnn/__init__.py  \n",
            "  inflating: Final Mask RCNN/requirements.txt  \n",
            "  inflating: Final Mask RCNN/testing_model.ipynb  \n"
          ]
        }
      ],
      "source": [
        "# !pip install gdown\n",
        "import gdown\n",
        "url = \"https://drive.google.com/uc?id=1SWVDHmcQjGykZn1mPAf7pwY7BTUCYK96\"\n",
        "output = \"Mask Rcnn.zip\"\n",
        "gdown.download(url, output, quiet=False)\n",
        "!unzip './Mask Rcnn.zip'"
      ]
    },
    {
      "cell_type": "code",
      "source": [
        "%cd Final Mask RCNN"
      ],
      "metadata": {
        "colab": {
          "base_uri": "https://localhost:8080/"
        },
        "id": "dCrThkxi8IMF",
        "outputId": "9edbbb91-391b-4d99-f9d8-675005536f2c"
      },
      "execution_count": null,
      "outputs": [
        {
          "output_type": "stream",
          "name": "stdout",
          "text": [
            "/content/Final Mask RCNN\n"
          ]
        }
      ]
    },
    {
      "cell_type": "code",
      "source": [
        "!unzip footimages.zip"
      ],
      "metadata": {
        "colab": {
          "base_uri": "https://localhost:8080/"
        },
        "id": "N5ir0xd2DQCd",
        "outputId": "6732b288-8c22-4f9e-d778-772996e29eb5"
      },
      "execution_count": null,
      "outputs": [
        {
          "output_type": "stream",
          "name": "stdout",
          "text": [
            "Archive:  footimages.zip\n",
            "   creating: footimages/\n",
            "   creating: footimages/train/\n",
            "  inflating: footimages/train/5.jpg  \n",
            "  inflating: footimages/train/2.jpg  \n",
            "  inflating: footimages/train/1.jpg  \n",
            "  inflating: footimages/train/4.jpg  \n",
            "  inflating: footimages/train/3.jpg  \n",
            "  inflating: footimages/train/Foot_Detector_json.json  \n",
            "   creating: footimages/val/\n",
            "  inflating: footimages/val/5.jpg    \n",
            "  inflating: footimages/val/Foot_Detector_json.json  \n",
            "  inflating: footimages/val/2.jpg    \n",
            "  inflating: footimages/val/4.jpeg   \n",
            "  inflating: footimages/val/1.jpg    \n",
            "  inflating: footimages/val/3.jpg    \n"
          ]
        }
      ]
    },
    {
      "cell_type": "code",
      "source": [
        "import os\n",
        "import sys\n",
        "import json\n",
        "import datetime\n",
        "import numpy as np\n",
        "import skimage.draw\n",
        "import cv2\n",
        "from mrcnn.visualize import display_instances\n",
        "import matplotlib.pyplot as plt"
      ],
      "metadata": {
        "id": "OFQWsCKKDe7B"
      },
      "execution_count": null,
      "outputs": []
    },
    {
      "cell_type": "code",
      "source": [
        "# Root directory of the project\n",
        "ROOT_DIR = \"Final Mask RCNN\"\n",
        "\n",
        "# Import Mask RCNN\n",
        "sys.path.append(ROOT_DIR)  # To find local version of the library\n",
        "from mrcnn.config import Config\n",
        "from mrcnn import model as modellib, utils\n",
        "\n",
        "# Path to trained weights file\n",
        "COCO_WEIGHTS_PATH = os.path.join(ROOT_DIR, \"/content/Final Mask RCNN/mask_rcnn_coco.h5\")\n",
        "\n",
        "# Directory to save logs and model checkpoints, if not provided\n",
        "# through the command line argument --logs\n",
        "DEFAULT_LOGS_DIR = os.path.join(ROOT_DIR, \"logs\")"
      ],
      "metadata": {
        "id": "ddG1Iex4DqZp"
      },
      "execution_count": null,
      "outputs": []
    },
    {
      "cell_type": "code",
      "source": [
        "class CustomConfig(Config):\n",
        "    \"\"\"Configuration for training on the custom  dataset.\n",
        "    Derives from the base Config class and overrides some values.\n",
        "    \"\"\"\n",
        "    # Give the configuration a recognizable name\n",
        "    NAME = \"object\"\n",
        "\n",
        "    # We use a GPU with 12GB memory, which can fit two images.\n",
        "    # Adjust down if you use a smaller GPU.\n",
        "    GPU_COUNT = 1\n",
        "    IMAGES_PER_GPU = 2\n",
        "\n",
        "    # Number of classes (including background)\n",
        "    NUM_CLASSES = 1 + 1  # Background + net and table\n",
        "\n",
        "    # Number of training steps per epoch\n",
        "    STEPS_PER_EPOCH = 3\n",
        "\n",
        "    # Skip detections with < 90% confidence\n",
        "    DETECTION_MIN_CONFIDENCE = 0.9\n",
        "\n",
        "############################################################\n",
        "#  Dataset\n",
        "############################################################\n"
      ],
      "metadata": {
        "id": "exn4x4sFDsrC"
      },
      "execution_count": null,
      "outputs": []
    },
    {
      "cell_type": "code",
      "source": [
        "import warnings\n",
        "warnings.filterwarnings('ignore')\n",
        "class CustomDataset(utils.Dataset):\n",
        "\n",
        "    def load_custom(self, dataset_dir, subset):\n",
        "        \"\"\"Load a subset of the Dog-Cat dataset.\n",
        "        dataset_dir: Root directory of the dataset.\n",
        "        subset: Subset to load: train or val\n",
        "        \"\"\"\n",
        "        # Add classes. We have only one class to add.\n",
        "        self.add_class(\"object\", 1, \"foot\")\n",
        "        # self.add_class(\"object\", 2, \"net\")\n",
        "\n",
        "        # Train or validation dataset?\n",
        "        assert subset in [\"train\", \"val\"]\n",
        "        dataset_dir = os.path.join(dataset_dir, subset)\n",
        "\n",
        "        # We mostly care about the x and y coordinates of each region\n",
        "        if subset == 'train':\n",
        "            annotations1 = json.load(open('/content/Final Mask RCNN/footimages/train/Foot_Detector_json.json'))\n",
        "        else:\n",
        "            annotations1 = json.load(open('/content/Final Mask RCNN/footimages/val/Foot_Detector_json.json'))\n",
        "        \n",
        "        # print(annotations1)\n",
        "        annotations = list(annotations1.values())  # don't need the dict keys\n",
        "\n",
        "        # The VIA tool saves images in the JSON even if they don't have any\n",
        "        # annotations. Skip unannotated images.\n",
        "        annotations = [a for a in annotations if a['regions']]\n",
        "        \n",
        "        # Add images\n",
        "        for a in annotations:\n",
        "            # print(a)\n",
        "            # Get the x, y coordinaets of points of the polygons that make up\n",
        "            # the outline of each object instance. There are stores in the\n",
        "            # shape_attributes (see json format above)\n",
        "            polygons = [r['shape_attributes'] for r in a['regions']] \n",
        "            objects = [s['region_attributes']['names'] for s in a['regions']]\n",
        "            print(\"objects:\",objects)\n",
        "            name_dict = {\"foot\": 1}\n",
        "\n",
        "            # key = tuple(name_dict)\n",
        "            num_ids = [name_dict[a] for a in objects]\n",
        "     \n",
        "            # num_ids = [int(n['Event']) for n in objects]\n",
        "            # load_mask() needs the image size to convert polygons to masks.\n",
        "            # Unfortunately, VIA doesn't include it in JSON, so we must read\n",
        "            # the image. This is only managable since the dataset is tiny.\n",
        "            print(\"numids\",num_ids)\n",
        "            image_path = os.path.join(dataset_dir, a['filename'])\n",
        "            image = skimage.io.imread(image_path)\n",
        "            height, width = image.shape[:2]\n",
        "\n",
        "            self.add_image(\n",
        "                \"object\",  ## for a single class just add the name here\n",
        "                image_id=a['filename'],  # use file name as a unique image id\n",
        "                path=image_path,\n",
        "                width=width, height=height,\n",
        "                polygons=polygons,\n",
        "                num_ids=num_ids\n",
        "                )\n",
        "\n",
        "    def load_mask(self, image_id):\n",
        "        \"\"\"Generate instance masks for an image.\n",
        "       Returns:\n",
        "        masks: A bool array of shape [height, width, instance count] with\n",
        "            one mask per instance.\n",
        "        class_ids: a 1D array of class IDs of the instance masks.\n",
        "        \"\"\"\n",
        "        # If not a Dog-Cat dataset image, delegate to parent class.\n",
        "        image_info = self.image_info[image_id]\n",
        "        if image_info[\"source\"] != \"object\":\n",
        "            return super(self.__class__, self).load_mask(image_id)\n",
        "\n",
        "        # Convert polygons to a bitmap mask of shape\n",
        "        # [height, width, instance_count]\n",
        "        info = self.image_info[image_id]\n",
        "        if info[\"source\"] != \"object\":\n",
        "            return super(self.__class__, self).load_mask(image_id)\n",
        "        num_ids = info['num_ids']\n",
        "        mask = np.zeros([info[\"height\"], info[\"width\"], len(info[\"polygons\"])],\n",
        "                        dtype=np.uint8)\n",
        "        for i, p in enumerate(info[\"polygons\"]):\n",
        "            # Get indexes of pixels inside the polygon and set them to 1\n",
        "        \trr, cc = skimage.draw.polygon(p['all_points_y'], p['all_points_x'])\n",
        "\n",
        "        \tmask[rr, cc, i] = 1\n",
        "\n",
        "        # Return mask, and array of class IDs of each instance. Since we have\n",
        "        # one class ID only, we return an array of 1s\n",
        "        # Map class names to class IDs.\n",
        "        num_ids = np.array(num_ids, dtype=np.int32)\n",
        "        return mask, num_ids #np.ones([mask.shape[-1]], dtype=np.int32)\n",
        "\n",
        "    def image_reference(self, image_id):\n",
        "        \"\"\"Return the path of the image.\"\"\"\n",
        "        info = self.image_info[image_id]\n",
        "        if info[\"source\"] == \"object\":\n",
        "            return info[\"path\"]\n",
        "        else:\n",
        "            super(self.__class__, self).image_reference(image_id)\n",
        "\n",
        "def train(model): \n",
        "    \"\"\"Train the model.\"\"\"\n",
        "    # Training dataset.\n",
        "    dataset_train = CustomDataset()\n",
        "    dataset_train.load_custom(\"/content/Final Mask RCNN/footimages\", \"train\")\n",
        "    dataset_train.prepare()\n",
        "\n",
        "    # Validation dataset\n",
        "    dataset_val = CustomDataset()\n",
        "    dataset_val.load_custom(\"/content/Final Mask RCNN/footimages\", \"val\")\n",
        "    dataset_val.prepare()\n",
        "\n",
        "    # *** This training schedule is an example. Update to your needs ***\n",
        "    # Since we're using a very small dataset, and starting from\n",
        "    # COCO trained weights, we don't need to train too long. Also,\n",
        "    # no need to train all layers, just the heads should do it.\n",
        "    print(\"Training network heads\")\n",
        "    model.train(dataset_train, dataset_val,\n",
        "                learning_rate=0.1,\n",
        "                epochs=3,\n",
        "                layers='heads')\n",
        "\t\t\t\n",
        "\t\t\t\t\n",
        "\t\t\t\t\n",
        "config = CustomConfig()\n",
        "model = modellib.MaskRCNN(mode=\"training\", config=config,\n",
        "                                  model_dir=DEFAULT_LOGS_DIR)\n",
        "\n",
        "weights_path = COCO_WEIGHTS_PATH\n",
        "        # Download weights file\n",
        "if not os.path.exists(weights_path):\n",
        "  utils.download_trained_weights(weights_path)\n",
        "\n",
        "model.load_weights(weights_path, by_name=True, exclude=[\n",
        "            \"mrcnn_class_logits\", \"mrcnn_bbox_fc\",\n",
        "            \"mrcnn_bbox\", \"mrcnn_mask\"])\n",
        "\n",
        "train(model)\t\t\t"
      ],
      "metadata": {
        "colab": {
          "base_uri": "https://localhost:8080/"
        },
        "id": "mNRqnJXYDu_R",
        "outputId": "756e52a5-243c-434b-de42-66e6a74340c3"
      },
      "execution_count": null,
      "outputs": [
        {
          "output_type": "stream",
          "name": "stdout",
          "text": [
            "objects: ['foot', 'foot']\n",
            "numids [1, 1]\n",
            "objects: ['foot', 'foot']\n",
            "numids [1, 1]\n",
            "objects: ['foot']\n",
            "numids [1]\n",
            "objects: ['foot', 'foot']\n",
            "numids [1, 1]\n",
            "objects: ['foot']\n",
            "numids [1]\n",
            "objects: ['foot']\n",
            "numids [1]\n",
            "objects: ['foot', 'foot']\n",
            "numids [1, 1]\n",
            "objects: ['foot']\n",
            "numids [1]\n",
            "objects: ['foot']\n",
            "numids [1]\n",
            "objects: ['foot', 'foot']\n",
            "numids [1, 1]\n",
            "Training network heads\n",
            "\n",
            "Starting at epoch 0. LR=0.1\n",
            "\n",
            "Checkpoint Path: Final Mask RCNN/logs/object20221117T0710/mask_rcnn_object_{epoch:04d}.h5\n",
            "Selecting layers to train\n",
            "fpn_c5p5               (Conv2D)\n",
            "fpn_c4p4               (Conv2D)\n",
            "fpn_c3p3               (Conv2D)\n",
            "fpn_c2p2               (Conv2D)\n",
            "fpn_p5                 (Conv2D)\n",
            "fpn_p2                 (Conv2D)\n",
            "fpn_p3                 (Conv2D)\n",
            "fpn_p4                 (Conv2D)\n",
            "rpn_model              (Functional)\n",
            "mrcnn_mask_conv1       (TimeDistributed)\n",
            "mrcnn_mask_bn1         (TimeDistributed)\n",
            "mrcnn_mask_conv2       (TimeDistributed)\n",
            "mrcnn_mask_bn2         (TimeDistributed)\n",
            "mrcnn_class_conv1      (TimeDistributed)\n",
            "mrcnn_class_bn1        (TimeDistributed)\n",
            "mrcnn_mask_conv3       (TimeDistributed)\n",
            "mrcnn_mask_bn3         (TimeDistributed)\n",
            "mrcnn_class_conv2      (TimeDistributed)\n",
            "mrcnn_class_bn2        (TimeDistributed)\n",
            "mrcnn_mask_conv4       (TimeDistributed)\n",
            "mrcnn_mask_bn4         (TimeDistributed)\n",
            "mrcnn_bbox_fc          (TimeDistributed)\n",
            "mrcnn_mask_deconv      (TimeDistributed)\n",
            "mrcnn_class_logits     (TimeDistributed)\n",
            "mrcnn_mask             (TimeDistributed)\n",
            "Epoch 1/3\n"
          ]
        }
      ]
    },
    {
      "cell_type": "code",
      "source": [
        "from google.colab import drive\n",
        "drive.mount('/content/drive')"
      ],
      "metadata": {
        "id": "JZbQZWOVkZHz"
      },
      "execution_count": null,
      "outputs": []
    },
    {
      "cell_type": "code",
      "source": [],
      "metadata": {
        "id": "UTWsQvPmDxzN"
      },
      "execution_count": null,
      "outputs": []
    },
    {
      "cell_type": "code",
      "source": [],
      "metadata": {
        "id": "fBak1ayuDadh"
      },
      "execution_count": null,
      "outputs": []
    }
  ]
}